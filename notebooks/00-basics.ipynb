{
 "cells": [
  {
   "cell_type": "markdown",
   "metadata": {},
   "source": [
    "## Meshes, Functions, File I/O\n",
    "\n",
    "This notebook will show some of the basic features of [Firedrake](https://www.firedrakeproject.org), which spyro is built upon. These are the kind of things you'd need to know to before you begin to model anything. First, we'll show how to use some of the builtin meshing capabilities in Firedrake, and then how to use meshes from an external mesher [SeismicMesh](https://github.com/krober10nd/SeismicMesh) and then talk a little bit about how Firedrake represents things on meshes using their concept of Functions. \n",
    "\n"
   ]
  },
  {
   "cell_type": "code",
   "execution_count": null,
   "metadata": {},
   "outputs": [],
   "source": []
  }
 ],
 "metadata": {
  "kernelspec": {
   "display_name": "Python 3",
   "language": "python",
   "name": "python3"
  },
  "language_info": {
   "codemirror_mode": {
    "name": "ipython",
    "version": 3
   },
   "file_extension": ".py",
   "mimetype": "text/x-python",
   "name": "python",
   "nbconvert_exporter": "python",
   "pygments_lexer": "ipython3",
   "version": "3.6.5"
  }
 },
 "nbformat": 4,
 "nbformat_minor": 2
}
